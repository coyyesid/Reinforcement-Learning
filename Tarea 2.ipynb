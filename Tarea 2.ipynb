{
 "cells": [
  {
   "cell_type": "markdown",
   "metadata": {},
   "source": [
    "# **Tarea 2**"
   ]
  },
  {
   "cell_type": "markdown",
   "metadata": {},
   "source": [
    "## _Punto 1:_\n",
    "\n",
    "### 1. Modelado del problema como un MDP\n",
    "\n",
    "Modele este problema como un MDP. Detalle todos los elementos del MDP:\n",
    "\n",
    "- **Estados**  \n",
    "- **Recompensas**  \n",
    "- **Acciones**  \n",
    "- **Dinámica de transición**:  \n",
    "  $$ p(s', r \\mid s, a) \\quad \\forall s, s', r, a $$  \n",
    "- **Factor de descuento**:  \n",
    "  $$ \\gamma $$"
   ]
  },
  {
   "cell_type": "code",
   "execution_count": 1,
   "metadata": {},
   "outputs": [],
   "source": [
    "import numpy as np"
   ]
  },
  {
   "cell_type": "code",
   "execution_count": 9,
   "metadata": {},
   "outputs": [],
   "source": [
    "# Definir el número de estados y acciones\n",
    "estados = 100  # Casillas del tablero\n",
    "acciones = [-1, 1]  # -1: Retroceder, 1: Avanzar"
   ]
  },
  {
   "cell_type": "code",
   "execution_count": 10,
   "metadata": {},
   "outputs": [],
   "source": [
    "probabilidades = [0.1, 0.15, 0.2, 0.2, 0.15, 0.1]  # Probabilidades del dado cargado"
   ]
  },
  {
   "cell_type": "code",
   "execution_count": 11,
   "metadata": {},
   "outputs": [],
   "source": [
    "\n",
    "# Definir posiciones de escaleras y serpientes\n",
    "escaleras = {4: 14, 9: 31, 21: 42, 28: 84, 36: 44, 51: 67, 71: 91, 80: 99}\n",
    "serpientes = {16: 6, 48: 26, 49: 11, 56: 53, 62: 19, 64: 60, 87: 24, 93: 73, 95: 75, 98: 78}"
   ]
  },
  {
   "cell_type": "code",
   "execution_count": 12,
   "metadata": {},
   "outputs": [],
   "source": [
    "\n",
    "# Casillas de victoria y derrota\n",
    "estado_ganar = [80, 100]  # Casillas azules\n",
    "estado_perder = [16, 48, 49, 56, 62, 64, 87, 93, 95, 98]  # Casillas rojas"
   ]
  },
  {
   "cell_type": "code",
   "execution_count": 13,
   "metadata": {},
   "outputs": [],
   "source": [
    "def probTransicion(s, a, probabilidades):\n",
    "    \"\"\" Calcula la distribución de probabilidad para el próximo estado.\"\"\"\n",
    "    prob_nuevoEstado = np.zeros(estados + 1)  # De 1 a 100\n",
    "    \n",
    "    for lanzamiento, prob in enumerate(probabilidades, start=1):\n",
    "        nuevoEstado = s + a * lanzamiento\n",
    "        \n",
    "        # Rebote en los extremos\n",
    "        if nuevoEstado > 100:\n",
    "            nuevoEstado = 100 - (nuevoEstado - 100)\n",
    "        elif nuevoEstado < 1:\n",
    "            nuevoEstado = 1 + (1 - nuevoEstado)\n",
    "        \n",
    "        # Escaleras y serpientes\n",
    "        if nuevoEstado in escaleras:\n",
    "            nuevoEstado = escaleras[nuevoEstado]\n",
    "        elif nuevoEstado in serpientes:\n",
    "            nuevoEstado = serpientes[nuevoEstado]\n",
    "        \n",
    "        prob_nuevoEstado[nuevoEstado] += prob\n",
    "    \n",
    "    return prob_nuevoEstado"
   ]
  },
  {
   "cell_type": "code",
   "execution_count": 14,
   "metadata": {},
   "outputs": [],
   "source": [
    "def funRecompensa(s):\n",
    "    \"\"\" Define la función de recompensa.\"\"\"\n",
    "    if s in estado_ganar:\n",
    "        return 1  # Victoria\n",
    "    elif s in estado_perder:\n",
    "        return -1  # Derrota\n",
    "    return -0.01  # Penalización por movimiento\n"
   ]
  },
  {
   "cell_type": "code",
   "execution_count": 15,
   "metadata": {},
   "outputs": [],
   "source": [
    "# Factor de descuento\n",
    "gamma = 0.9"
   ]
  }
 ],
 "metadata": {
  "kernelspec": {
   "display_name": "Python 3",
   "language": "python",
   "name": "python3"
  },
  "language_info": {
   "codemirror_mode": {
    "name": "ipython",
    "version": 3
   },
   "file_extension": ".py",
   "mimetype": "text/x-python",
   "name": "python",
   "nbconvert_exporter": "python",
   "pygments_lexer": "ipython3",
   "version": "3.10.11"
  }
 },
 "nbformat": 4,
 "nbformat_minor": 2
}
